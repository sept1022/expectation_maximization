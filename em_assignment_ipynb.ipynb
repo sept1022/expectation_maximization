{
  "nbformat": 4,
  "nbformat_minor": 0,
  "metadata": {
    "colab": {
      "name": "em_assignment.ipynb의 사본",
      "provenance": [],
      "collapsed_sections": []
    },
    "kernelspec": {
      "display_name": "Python 3",
      "language": "python",
      "name": "python3"
    }
  },
  "cells": [
    {
      "cell_type": "markdown",
      "metadata": {
        "id": "jlo4V6MRBEDQ",
        "colab_type": "text"
      },
      "source": [
        "# First things first\n",
        "Click **File -> Save a copy in Drive** and click **Open in new tab** in the pop-up window to save your progress in Google Drive."
      ]
    },
    {
      "cell_type": "markdown",
      "metadata": {
        "id": "WMlNHfVxBEDT",
        "colab_type": "text"
      },
      "source": [
        "# Expectation-maximization algorithm"
      ]
    },
    {
      "cell_type": "markdown",
      "metadata": {
        "id": "icS4MsxIBEDU",
        "colab_type": "text"
      },
      "source": [
        "In this assignment, we will derive and implement formulas for Gaussian Mixture Model — one of the most commonly used methods for performing soft clustering of the data. "
      ]
    },
    {
      "cell_type": "markdown",
      "metadata": {
        "id": "jequoJfSBEDV",
        "colab_type": "text"
      },
      "source": [
        "### Setup\n",
        "Loading auxiliary files and importing the necessary libraries."
      ]
    },
    {
      "cell_type": "code",
      "metadata": {
        "id": "ZqZo-y9UBEDX",
        "colab_type": "code",
        "outputId": "ac8fd8a7-f2b4-442e-a8c9-2dfe3ecb1179",
        "colab": {
          "base_uri": "https://localhost:8080/",
          "height": 259
        }
      },
      "source": [
        "try:\n",
        "    import google.colab\n",
        "    IN_COLAB = True\n",
        "except:\n",
        "    IN_COLAB = False\n",
        "if IN_COLAB:\n",
        "    print(\"Downloading Colab files\")\n",
        "    ! shred -u setup_google_colab.py\n",
        "    ! wget https://raw.githubusercontent.com/hse-aml/bayesian-methods-for-ml/master/setup_google_colab.py -O setup_google_colab.py\n",
        "    import setup_google_colab\n",
        "    setup_google_colab.load_data_week2()"
      ],
      "execution_count": 203,
      "outputs": [
        {
          "output_type": "stream",
          "text": [
            "Downloading Colab files\n",
            "--2019-09-24 06:34:36--  https://raw.githubusercontent.com/hse-aml/bayesian-methods-for-ml/master/setup_google_colab.py\n",
            "Resolving raw.githubusercontent.com (raw.githubusercontent.com)... 151.101.0.133, 151.101.64.133, 151.101.128.133, ...\n",
            "Connecting to raw.githubusercontent.com (raw.githubusercontent.com)|151.101.0.133|:443... connected.\n",
            "HTTP request sent, awaiting response... 200 OK\n",
            "Length: 1254 (1.2K) [text/plain]\n",
            "Saving to: ‘setup_google_colab.py’\n",
            "\n",
            "setup_google_colab. 100%[===================>]   1.22K  --.-KB/s    in 0s      \n",
            "\n",
            "2019-09-24 06:34:36 (226 MB/s) - ‘setup_google_colab.py’ saved [1254/1254]\n",
            "\n",
            "https://raw.githubusercontent.com/hse-aml/bayesian-methods-for-ml/master/week2/w2_grader.py w2_grader.py\n",
            "https://raw.githubusercontent.com/hse-aml/bayesian-methods-for-ml/master/week2/samples.npz samples.npz\n"
          ],
          "name": "stdout"
        }
      ]
    },
    {
      "cell_type": "code",
      "metadata": {
        "id": "urylZcbeBEDc",
        "colab_type": "code",
        "colab": {}
      },
      "source": [
        "import numpy as np\n",
        "from numpy.linalg import slogdet, det, solve\n",
        "import matplotlib.pyplot as plt\n",
        "import time\n",
        "from sklearn.datasets import load_digits\n",
        "from w2_grader import EMGrader\n",
        "%matplotlib inline"
      ],
      "execution_count": 0,
      "outputs": []
    },
    {
      "cell_type": "markdown",
      "metadata": {
        "id": "tP8l9frZBEDf",
        "colab_type": "text"
      },
      "source": [
        "### Grading\n",
        "We will create a grader instance below and use it to collect your answers. Note that these outputs will be stored locally inside grader and will be uploaded to the platform only after running submitting function in the last part of this assignment. If you want to make a partial submission, you can run that cell anytime you want."
      ]
    },
    {
      "cell_type": "code",
      "metadata": {
        "id": "7Gvy3EOvBEDg",
        "colab_type": "code",
        "colab": {}
      },
      "source": [
        "grader = EMGrader()"
      ],
      "execution_count": 0,
      "outputs": []
    },
    {
      "cell_type": "markdown",
      "metadata": {
        "id": "dL3A2sntBEDj",
        "colab_type": "text"
      },
      "source": [
        "## Implementing EM for GMM"
      ]
    },
    {
      "cell_type": "markdown",
      "metadata": {
        "id": "0xPS_VdpBEDk",
        "colab_type": "text"
      },
      "source": [
        "For debugging, we will use samples from a Gaussian mixture model with unknown mean, variance, and priors. We also added initial values of parameters for grading purposes."
      ]
    },
    {
      "cell_type": "code",
      "metadata": {
        "id": "g9_aOn94BEDl",
        "colab_type": "code",
        "outputId": "7fea8861-8c85-4119-d31d-449ad32674fa",
        "colab": {
          "base_uri": "https://localhost:8080/",
          "height": 269
        }
      },
      "source": [
        "samples = np.load('samples.npz')\n",
        "X = samples['data']\n",
        "pi0 = samples['pi0']\n",
        "mu0 = samples['mu0']\n",
        "sigma0 = samples['sigma0']\n",
        "plt.scatter(X[:, 0], X[:, 1], c='grey', s=30)\n",
        "plt.axis('equal')\n",
        "plt.show()"
      ],
      "execution_count": 206,
      "outputs": [
        {
          "output_type": "display_data",
          "data": {
            "image/png": "[encoded data removed]",
            "text/plain": [
              "<Figure size 432x288 with 1 Axes>"
            ]
          },
          "metadata": {
            "tags": []
          }
        }
      ]
    },
    {
      "cell_type": "markdown",
      "metadata": {
        "id": "AmgeHTCfBEDp",
        "colab_type": "text"
      },
      "source": [
        "### Reminder"
      ]
    },
    {
      "cell_type": "markdown",
      "metadata": {
        "id": "RgAwWi1nBEDq",
        "colab_type": "text"
      },
      "source": [
        "Remember, that EM algorithm is a coordinate descent optimization of variational lower bound $\\mathcal{L}(\\theta, q) = \\int q(T) \\log\\frac{p(X, T|\\theta)}{q(T)}dT\\to \\max$.\n",
        "\n",
        "<b>E-step</b>:<br>\n",
        "$\\mathcal{L}(\\theta, q) \\to \\max\\limits_{q} \\Leftrightarrow \\mathcal{KL} [q(T) \\,\\|\\, p(T|X, \\theta)] \\to \\min \\limits_{q\\in Q} \\Rightarrow q(T) = p(T|X, \\theta)$<br>\n",
        "<b>M-step</b>:<br> \n",
        "$\\mathcal{L}(\\theta, q) \\to \\max\\limits_{\\theta} \\Leftrightarrow \\mathbb{E}_{q(T)}\\log p(X,T | \\theta) \\to \\max\\limits_{\\theta}$\n",
        "\n",
        "For GMM, $\\theta$ is a set of parameters that consists of mean vectors $\\mu_c$, covariance matrices $\\Sigma_c$ and priors $\\pi_c$ for each component.\n",
        "\n",
        "Latent variables $T$ are indices of components to which each data point is assigned, i.e. $t_i$  is the cluster index for object $x_i$.\n",
        "\n",
        "The joint distribution can be written as follows: $\\log p(T, X \\mid \\theta) =  \\sum\\limits_{i=1}^N \\log p(t_i, x_i \\mid \\theta) = \\sum\\limits_{i=1}^N \\sum\\limits_{c=1}^C q(t_i = c) \\log \\left (\\pi_c \\, f_{\\!\\mathcal{N}}(x_i \\mid \\mu_c, \\Sigma_c)\\right)$,\n",
        "where $f_{\\!\\mathcal{N}}(x \\mid \\mu_c, \\Sigma_c) = \\frac{1}{\\sqrt{(2\\pi)^n|\\boldsymbol\\Sigma_c|}}\n",
        "\\exp\\left(-\\frac{1}{2}({x}-{\\mu_c})^T{\\boldsymbol\\Sigma_c}^{-1}({x}-{\\mu_c})\n",
        "\\right)$ is the probability density function (pdf) of the normal distribution $\\mathcal{N}(x_i \\mid \\mu_c, \\Sigma_c)$."
      ]
    },
    {
      "cell_type": "markdown",
      "metadata": {
        "id": "ELmi1nAtBEDr",
        "colab_type": "text"
      },
      "source": [
        "### E-step\n",
        "In this step we need to estimate the posterior distribution over the latent variables with fixed values of parameters: $q_i(t_i) = p(t_i \\mid x_i, \\theta)$. We assume that $t_i$ equals to the cluster index of the true component of the $x_i$ object. To do so we need to compute $\\gamma_{ic} = p(t_i = c \\mid x_i, \\theta)$. Note that $\\sum\\limits_{c=1}^C\\gamma_{ic}=1$.\n"
      ]
    },
    {
      "cell_type": "markdown",
      "metadata": {
        "id": "53FR1RJ9BEDs",
        "colab_type": "text"
      },
      "source": [
        "<b>Important trick 1:</b> It is important to avoid numerical errors. At some point you will have to compute the formula of the following form: $\\frac{e^{y_i}}{\\sum_j e^{y_j}}$, which is called _softmax_. When you compute exponents of large numbers, some numbers may become infinity. You can avoid this by dividing numerator and denominator by $e^{\\max(y)}$: $\\frac{e^{y_i-\\max(y)}}{\\sum_j e^{y_j - \\max(y)}}$. After this transformation maximum value in the denominator will be equal to one. All other terms will contribute smaller values. So, to compute desired formula you first subtract maximum value from each component in vector $\\mathbf{y}$ and then compute everything else as before.\n",
        "\n",
        "<b>Important trick 2:</b> You will probably need to compute formula of the form $A^{-1}x$ at some point. You would normally inverse $A$ and then multiply it by $x$. A bit faster and more numerically accurate way to do this is to directly solve equation $Ay = x$ by using a special function. Its solution is $y=A^{-1}x$, but the equation $Ay = x$ can be solved by methods which do not explicitely invert the matrix. You can use ```np.linalg.solve``` for this.\n",
        "\n",
        "<b>Other usefull functions: </b> <a href=\"https://docs.scipy.org/doc/numpy/reference/generated/numpy.linalg.slogdet.html\">```slogdet```</a> and <a href=\"https://docs.scipy.org/doc/numpy/reference/generated/numpy.linalg.det.html#numpy.linalg.det\">```det```</a>"
      ]
    },
    {
      "cell_type": "markdown",
      "metadata": {
        "id": "KL87Q8-TBEDu",
        "colab_type": "text"
      },
      "source": [
        "<b>Task 1:</b> Implement E-step for GMM using template below."
      ]
    },
    {
      "cell_type": "code",
      "metadata": {
        "id": "wCUCaD28BEDw",
        "colab_type": "code",
        "colab": {}
      },
      "source": [
        "from scipy.stats import multivariate_normal\n",
        "\n",
        "def E_step(X, pi, mu, sigma):\n",
        "    \"\"\"\n",
        "    Performs E-step on GMM model\n",
        "    Each input is numpy array:\n",
        "    X: (N x d), data points\n",
        "    pi: (C), mixture component weights \n",
        "    mu: (C x d), mixture component means\n",
        "    sigma: (C x d x d), mixture component covariance matrices\n",
        "    \n",
        "    Returns:\n",
        "    gamma: (N x C), probabilities of clusters for objects\n",
        "    \"\"\"\n",
        "    N = X.shape[0] # number of objects\n",
        "    C = pi.shape[0] # number of clusters\n",
        "    d = mu.shape[1] # dimension of each object\n",
        "    gamma = np.zeros((N, C)) # distribution q(T)\n",
        "    const_value = np.zeros(C)\n",
        "    #print('X', X.shape);    print('pi', pi.shape);    print('mu', mu.shape);    print('gamma', gamma.shape)\n",
        "    \n",
        "    # YOUR CODE HERE\n",
        "    # for t in range(C):\n",
        "    #     gamma[:,t]=multivariate_normal.pdf(X, mean=mu[t,:], cov=sigma[t,...])*(pi[t])   \n",
        "    # gamma/=np.sum(gamma,1).reshape(-1,1)#normalize by z\n",
        "    \n",
        "    for c in range(C): # for class\n",
        "        mu_c, sigma_c, pi_c = mu[c,:], sigma[c,:,:], pi[c]\n",
        "        det_sigma_c = np.linalg.det(sigma_c)\n",
        "        const_value[c] = pi_c/np.sqrt(det_sigma_c)\n",
        "        #const_value[c] = 1/np.sqrt(pow(2*np.pi, d) * det_sigma_c)\n",
        "        \n",
        "        for i in range(N):\n",
        "            diff = X[i] - mu_c\n",
        "            y = np.linalg.solve(sigma_c, diff)             # Ay = x            \n",
        "            gamma[i][c] = -0.5*diff[np.newaxis,:].dot(y[:, np.newaxis])\n",
        "\n",
        "    max_values = np.max(gamma, axis=1)\n",
        "    gamma -= max_values.reshape(max_values.shape[-1], 1)\n",
        "    gamma = np.exp(gamma)\n",
        "    gamma *= const_value   \n",
        "    gamma /= np.sum(gamma, axis=1).reshape(gamma.shape[0], 1)\n",
        "    \n",
        "    return gamma\n",
        "gamma = E_step(X, pi0, mu0, sigma0)"
      ],
      "execution_count": 0,
      "outputs": []
    },
    {
      "cell_type": "code",
      "metadata": {
        "id": "xlhktOlMBED1",
        "colab_type": "code",
        "outputId": "1f2ddd7a-747a-4f80-a1e8-90ffdcd18f84",
        "colab": {
          "base_uri": "https://localhost:8080/",
          "height": 35
        }
      },
      "source": [
        "gamma = E_step(X, pi0, mu0, sigma0)\n",
        "grader.submit_e_step(gamma)"
      ],
      "execution_count": 208,
      "outputs": [
        {
          "output_type": "stream",
          "text": [
            "Current answer for task Task 1 (E-step) is: 0.5337178741081262\n"
          ],
          "name": "stdout"
        }
      ]
    },
    {
      "cell_type": "markdown",
      "metadata": {
        "id": "fERrQWSCBED5",
        "colab_type": "text"
      },
      "source": [
        "### M-step\n",
        "\n",
        "In M-step we need to maximize $\\mathbb{E}_{q(T)}\\log p(X,T | \\theta)$ with respect to $\\theta$. In our model this means that we need to find optimal values of $\\pi$, $\\mu$, $\\Sigma$. To do so, you need to compute the derivatives and \n",
        "set them to zero. You should start by deriving formulas for $\\mu$ as it is the easiest part. Then move on to $\\Sigma$. Here it is crucial to optimize function w.r.t. to $\\Lambda = \\Sigma^{-1}$ and then inverse obtained result. Finaly, to compute $\\pi$, you will need <a href=\"https://www3.nd.edu/~jstiver/FIN360/Constrained%20Optimization.pdf\">Lagrange Multipliers technique</a> to satisfy constraint $\\sum\\limits_{i=1}^{n}\\pi_i = 1$.\n",
        "\n",
        "<br>\n",
        "<b>Important note:</b> You will need to compute derivatives of scalars with respect to matrices. To refresh this technique from previous courses, see <a href=\"https://en.wikipedia.org/wiki/Matrix_calculus\"> wiki article</a> about it . Main formulas of matrix derivatives can be found in <a href=\"http://www2.imm.dtu.dk/pubdb/views/edoc_download.php/3274/pdf/imm3274.pdf\">Chapter 2 of The Matrix Cookbook</a>. For example, there you may find that $\\frac{\\partial}{\\partial A}\\log |A| = A^{-T}$.\n"
      ]
    },
    {
      "cell_type": "markdown",
      "metadata": {
        "id": "A31OYSogBED6",
        "colab_type": "text"
      },
      "source": [
        "<b>Task 2:</b> Implement M-step for GMM using template below."
      ]
    },
    {
      "cell_type": "code",
      "metadata": {
        "id": "mhOr5I1bBED7",
        "colab_type": "code",
        "colab": {}
      },
      "source": [
        "def M_step(X, gamma):\n",
        "    \"\"\"\n",
        "    Performs M-step on GMM model\n",
        "    Each input is numpy array:\n",
        "    X: (N x d), data points\n",
        "    gamma: (N x C), distribution q(T)  \n",
        "    \n",
        "    Returns:\n",
        "    pi: (C)\n",
        "    mu: (C x d)\n",
        "    sigma: (C x d x d)\n",
        "    \"\"\"\n",
        "    N = X.shape[0] # number of objects\n",
        "    C = gamma.shape[1] # number of clusters\n",
        "    d = X.shape[1] # dimension of each object\n",
        "\n",
        "    ### YOUR CODE HERE\n",
        "\n",
        "    pi = np.zeros(C)\n",
        "    mu = np.zeros((C, d))\n",
        "    sigma = np.zeros((C, d, d))\n",
        "\n",
        "    const_sum = np.sum(gamma, axis=0)\n",
        "    # pi\n",
        "    pi = const_sum / N\n",
        "\n",
        "    # mu\n",
        "    for c in range(C):\n",
        "      for n in range(N):\n",
        "        mu[c] += gamma[n][c] * X[n]\n",
        "    mu /= const_sum.reshape(C, 1)\n",
        "    \n",
        "    # sigma\n",
        "    for c in range(C):\n",
        "      for n in range(N):\n",
        "        diff = X[n] - mu[c]\n",
        "        sigma[c] += gamma[n][c] * diff[:, np.newaxis].dot(diff[np.newaxis, :])\n",
        "      sigma[c] /= const_sum[c]\n",
        "\n",
        "    return pi, mu, sigma\n",
        "pi, mu, sigma = M_step(X, gamma)"
      ],
      "execution_count": 0,
      "outputs": []
    },
    {
      "cell_type": "code",
      "metadata": {
        "id": "6i5cv65SBED-",
        "colab_type": "code",
        "outputId": "a3c19842-9225-496b-93bf-9fd698464eec",
        "colab": {
          "base_uri": "https://localhost:8080/",
          "height": 69
        }
      },
      "source": [
        "gamma = E_step(X, pi0, mu0, sigma0)\n",
        "pi, mu, sigma = M_step(X, gamma)\n",
        "grader.submit_m_step(pi, mu, sigma)"
      ],
      "execution_count": 210,
      "outputs": [
        {
          "output_type": "stream",
          "text": [
            "Current answer for task Task 2 (M-step: mu) is: 2.899391882050384\n",
            "Current answer for task Task 2 (M-step: sigma) is: 5.977105216897526\n",
            "Current answer for task Task 2 (M-step: pi) is: 0.5507624459218775\n"
          ],
          "name": "stdout"
        }
      ]
    },
    {
      "cell_type": "markdown",
      "metadata": {
        "id": "svyzjt7XBEEC",
        "colab_type": "text"
      },
      "source": [
        "### Loss function"
      ]
    },
    {
      "cell_type": "markdown",
      "metadata": {
        "id": "qexOXBLUBEED",
        "colab_type": "text"
      },
      "source": [
        "Finally, we need some function to track convergence. We will use variational lower bound $\\mathcal{L}$ for this purpose. We will stop our EM iterations when $\\mathcal{L}$ will saturate. Usually, you will need only about 10-20 iterations to converge. It is also useful to check that this function never decreases during training. If it does, you have a bug in your code.\n",
        "\n",
        "<b>Task 3:</b> Implement a function that will compute $\\mathcal{L}$ using template below.\n",
        "\n",
        "$$\\mathcal{L} = \\sum_{i=1}^{N} \\sum_{c=1}^{C} q(t_i =c) (\\log \\pi_c + \\log f_{\\!\\mathcal{N}}(x_i \\mid \\mu_c, \\Sigma_c)) - \\sum_{i=1}^{N} \\sum_{c=1}^{K} q(t_i =c) \\log q(t_i =c)$$"
      ]
    },
    {
      "cell_type": "code",
      "metadata": {
        "id": "B5tKCZe0BEEE",
        "colab_type": "code",
        "colab": {}
      },
      "source": [
        "def compute_vlb(X, pi, mu, sigma, gamma):\n",
        "    \"\"\"\n",
        "    Each input is numpy array:\n",
        "    X: (N x d), data points\n",
        "    gamma: (N x C), distribution q(T)  \n",
        "    pi: (C)\n",
        "    mu: (C x d)\n",
        "    sigma: (C x d x d)\n",
        "    \n",
        "    Returns value of variational lower bound\n",
        "    \"\"\"\n",
        "    N = X.shape[0] # number of objects\n",
        "    C = gamma.shape[1] # number of clusters\n",
        "    d = X.shape[1] # dimension of each object\n",
        "\n",
        "    ### YOUR CODE HERE\n",
        "    loss = 0.0\n",
        "    for c in range(C):\n",
        "      mu_c, sigma_c, pi_c = mu[c], sigma[c], pi[c]\n",
        "      det_sigma_c = np.linalg.det(sigma_c)\n",
        "      \n",
        "      const_value = np.log(pi_c) -0.5 * d * np.log(2*np.pi) - 0.5 * np.log(det_sigma_c)\n",
        "\n",
        "      for i in range(N):\n",
        "        diff = X[i] - mu_c\n",
        "        y = np.linalg.solve(sigma_c, diff)\n",
        "        loss += gamma[i, c] * (const_value -0.5 * diff[np.newaxis,:].dot(y[:, np.newaxis]))\n",
        "        loss -= gamma[i][c] * np.log(gamma[i][c])\n",
        "\n",
        "    return loss"
      ],
      "execution_count": 0,
      "outputs": []
    },
    {
      "cell_type": "code",
      "metadata": {
        "id": "xNva3XRTBEEI",
        "colab_type": "code",
        "outputId": "b7c3c114-f783-4625-d4a7-726448ff7339",
        "colab": {
          "base_uri": "https://localhost:8080/",
          "height": 35
        }
      },
      "source": [
        "pi, mu, sigma = pi0, mu0, sigma0\n",
        "gamma = E_step(X, pi, mu, sigma)\n",
        "pi, mu, sigma = M_step(X, gamma)\n",
        "loss = compute_vlb(X, pi, mu, sigma, gamma)\n",
        "grader.submit_VLB(loss)"
      ],
      "execution_count": 273,
      "outputs": [
        {
          "output_type": "stream",
          "text": [
            "Current answer for task Task 3 (VLB) is: -1213.973464306021\n"
          ],
          "name": "stdout"
        }
      ]
    },
    {
      "cell_type": "markdown",
      "metadata": {
        "id": "I5p8XC-eBEEM",
        "colab_type": "text"
      },
      "source": [
        "### Bringing it all together"
      ]
    },
    {
      "cell_type": "markdown",
      "metadata": {
        "id": "cQsdsNVCBEEU",
        "colab_type": "text"
      },
      "source": [
        "Now that we have E step, M step and VLB, we can implement the training loop. We will initialize values of $\\pi$, $\\mu$ and $\\Sigma$ to some random numbers, train until $\\mathcal{L}$ stops changing, and return the resulting points. We also know that the EM algorithm converges to local optima. To find a better local optima, we will restart the algorithm multiple times from different (random) starting positions. Each training trial should stop either when maximum number of iterations is reached or when relative improvement is smaller than given tolerance ($|\\frac{\\mathcal{L}_i-\\mathcal{L}_{i-1}}{\\mathcal{L}_{i-1}}| \\le \\text{rtol}$).\n",
        "\n",
        "Remember, that initial (random) values of $\\pi$ that you generate must be non-negative and sum up to 1. Also, $\\Sigma$ matrices must be symmetric and positive semi-definite. If you don't know how to generate those matrices, you can use $\\Sigma=I$ as initialization.\n",
        "\n",
        "You will also sometimes get numerical errors because of component collapsing. The easiest way to deal with this problems is to restart the procedure.\n",
        "\n",
        "<b>Task 4:</b> Implement training procedure"
      ]
    },
    {
      "cell_type": "code",
      "metadata": {
        "id": "Q1AAcyl0BEEW",
        "colab_type": "code",
        "colab": {}
      },
      "source": [
        "def train_EM(X, C, rtol=1e-3, max_iter=100, restarts=10):\n",
        "    '''\n",
        "    Starts with random initialization *restarts* times\n",
        "    Runs optimization until saturation with *rtol* reached\n",
        "    or *max_iter* iterations were made.\n",
        "    \n",
        "    X: (N, d), data points\n",
        "    C: int, number of clusters\n",
        "    '''\n",
        "    N = X.shape[0] # number of objects\n",
        "    d = X.shape[1] # dimension of each object\n",
        "    best_loss = None \n",
        "    best_pi = None\n",
        "    best_mu = None\n",
        "    best_sigma = None\n",
        "\n",
        "    for training_id in range(restarts):\n",
        "        try:\n",
        "          # initialize\n",
        "          pi = np.random.random(C)\n",
        "          pi /= np.sum(pi)\n",
        "          sigma = np.zeros((C, d, d))\n",
        "          mu = np.zeros((C, d))\n",
        "          \n",
        "          for i in range(C):\n",
        "            mu[i] = np.random.randn(d)\n",
        "            sigma[i] = np.identity(d)\n",
        "\n",
        "          # training\n",
        "          prev_loss = 0.0 \n",
        "          for iter_id in range(max_iter):\n",
        "            gamma = E_step(X, pi, mu, sigma)\n",
        "            pi, mu, sigma = M_step(X, gamma)\n",
        "            loss = compute_vlb(X, pi, mu, sigma, gamma)\n",
        "            if abs((loss - prev_loss) / prev_loss) <= rtol and iter_id != 0:\n",
        "              break\n",
        "          \n",
        "            prev_loss = loss\n",
        "          if best_loss == None or prev_loss > best_loss:\n",
        "            best_loss = prev_loss\n",
        "            best_pi, best_mu, best_sigma = pi, mu, sigma\n",
        "        except np.linalg.LinAlgError:\n",
        "            print(\"Singular matrix: components collapsed\")\n",
        "            pass\n",
        "\n",
        "    return best_loss, best_pi, best_mu, best_sigma"
      ],
      "execution_count": 0,
      "outputs": []
    },
    {
      "cell_type": "code",
      "metadata": {
        "id": "0f8A5sbmBEEZ",
        "colab_type": "code",
        "outputId": "a2405735-3e40-47ac-c11d-a29a3c40a08d",
        "colab": {
          "base_uri": "https://localhost:8080/",
          "height": 52
        }
      },
      "source": [
        "best_loss, best_pi, best_mu, best_sigma = train_EM(X, 3)\n",
        "grader.submit_EM(best_loss)"
      ],
      "execution_count": 268,
      "outputs": [
        {
          "output_type": "stream",
          "text": [
            "/usr/local/lib/python3.6/dist-packages/ipykernel_launcher.py:35: RuntimeWarning: divide by zero encountered in true_divide\n"
          ],
          "name": "stderr"
        },
        {
          "output_type": "stream",
          "text": [
            "Current answer for task Task 4 (EM) is: -1064.8051300813083\n"
          ],
          "name": "stdout"
        }
      ]
    },
    {
      "cell_type": "markdown",
      "metadata": {
        "id": "tYd6tPHKBEEd",
        "colab_type": "text"
      },
      "source": [
        "If you implemented all the steps correctly, your algorithm should converge in about 20 iterations. Let's plot the clusters to see it. We will assign a cluster label as the most probable cluster index. This can be found using a matrix $\\gamma$ computed on last E-step. "
      ]
    },
    {
      "cell_type": "code",
      "metadata": {
        "id": "mK_M6QLnBEEe",
        "colab_type": "code",
        "outputId": "accc234b-48ac-43ab-c87a-c2286fbd1f23",
        "colab": {
          "base_uri": "https://localhost:8080/",
          "height": 269
        }
      },
      "source": [
        "gamma = E_step(X, best_pi, best_mu, best_sigma)\n",
        "labels = gamma.argmax(axis=1)\n",
        "colors = np.array([(31, 119, 180), (255, 127, 14), (44, 160, 44)]) / 255.\n",
        "plt.scatter(X[:, 0], X[:, 1], c=colors[labels], s=30)\n",
        "plt.axis('equal')\n",
        "plt.show()"
      ],
      "execution_count": 269,
      "outputs": [
        {
          "output_type": "display_data",
          "data": {
            "image/png": "[encoded data removed]",
            "text/plain": [
              "<Figure size 432x288 with 1 Axes>"
            ]
          },
          "metadata": {
            "tags": []
          }
        }
      ]
    },
    {
      "cell_type": "markdown",
      "metadata": {
        "id": "h4lnjrc7BEEl",
        "colab_type": "text"
      },
      "source": [
        "# Authorization & Submission\n",
        "To submit assignment parts to Cousera platform, please, enter your e-mail and token into variables below. You can generate a token on this programming assignment's page. <b>Note:</b> The token expires 30 minutes after generation."
      ]
    },
    {
      "cell_type": "code",
      "metadata": {
        "id": "5uQRl29_BEEl",
        "colab_type": "code",
        "outputId": "cde6336e-f1ff-48c8-c2e0-dd1bf69ddd28",
        "colab": {
          "base_uri": "https://localhost:8080/",
          "height": 138
        }
      },
      "source": [
        "STUDENT_EMAIL = \"kyuyeol.han@sk.com\"\n",
        "STUDENT_TOKEN = \"0qBhHxFZThKwIBOg\"\n",
        "grader.status()"
      ],
      "execution_count": 270,
      "outputs": [
        {
          "output_type": "stream",
          "text": [
            "You want to submit these numbers:\n",
            "Task Task 1 (E-step): 0.5337178741081262\n",
            "Task Task 2 (M-step: mu): 2.899391882050384\n",
            "Task Task 2 (M-step: sigma): 5.977105216897526\n",
            "Task Task 2 (M-step: pi): 0.5507624459218775\n",
            "Task Task 3 (VLB): ----------\n",
            "Task Task 4 (EM): -1064.8051300813083\n"
          ],
          "name": "stdout"
        }
      ]
    },
    {
      "cell_type": "markdown",
      "metadata": {
        "id": "sNCsqNOiBEEn",
        "colab_type": "text"
      },
      "source": [
        "If you want to submit these answers, run cell below"
      ]
    },
    {
      "cell_type": "code",
      "metadata": {
        "id": "3sc9imWNBEEo",
        "colab_type": "code",
        "outputId": "62dcf08b-53b0-40f9-e28a-813782835128",
        "colab": {
          "base_uri": "https://localhost:8080/",
          "height": 35
        }
      },
      "source": [
        "grader.submit(STUDENT_EMAIL, STUDENT_TOKEN)"
      ],
      "execution_count": 274,
      "outputs": [
        {
          "output_type": "stream",
          "text": [
            "Submitted to Coursera platform. See results on assignment page!\n"
          ],
          "name": "stdout"
        }
      ]
    },
    {
      "cell_type": "code",
      "metadata": {
        "id": "5HYvEgmhz6Ju",
        "colab_type": "code",
        "colab": {}
      },
      "source": [
        ""
      ],
      "execution_count": 0,
      "outputs": []
    }
  ]
}