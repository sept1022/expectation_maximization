{
 "cells": [
  {
   "cell_type": "markdown",
   "metadata": {},
   "source": [
    "## E-Step\n",
    "\n",
    "<font size=3>\n",
    "\n",
    "* EM: For each point compute\n",
    " * $q(t_i) = p(t_i|x_i, \\theta)$ \n",
    "\n",
    "* GMM: For each point compute\n",
    " * $ p(t_i|x_i, \\theta) = p(x_i|t_i)p(t_i) = \\pi \\mathcal{N}(x_i|\\theta_i)$\n",
    " \n",
    "$ P(x) = \\sum_c \\pi_c \\mathcal{N}(x|\\mu_c, \\Sigma_c),\\quad \\sum_c \\pi_c = 1$\n",
    "\n",
    "$\\gamma(z_{nc})=p(z_{nc}=1|x_n) = \\frac{p(x_{nc}=1)p(x_n|z_{nc}=1)}{\\sum_j p(z_{nj}=1)p(x_n|z_{nj}=1)} = \\frac{\\pi_k\\mathcal{N}(x_n|\\theta_c)}{\\sum_j \\pi_j\\mathcal{N}(x_n|\\theta_j)}$\n",
    "\n",
    "$\\mathcal{N}(x \\mid \\mu_c, \\Sigma_c) = \\frac{1}{\\sqrt{(2\\pi)^n|\\boldsymbol\\Sigma_c|}}\n",
    "\\exp\\left(-\\frac{1}{2}({x}-{\\mu_c})^T{\\boldsymbol\\Sigma_c}^{-1}({x}-{\\mu_c})\n",
    "\\right)$ "
   ]
  },
  {
   "cell_type": "markdown",
   "metadata": {},
   "source": [
    "## Log Likelihood\n",
    "\n",
    "$\\mathcal{L}(X;\\theta)=\\text{ln}\\; p(X|\\mu, \\pi, \\Sigma) = \\text{ln}\\; \\left( \\prod^n p(x_n|\\pi, \\mu, \\Sigma) \\right) = \\sum_n^N \\text{ln}\\; \\sum_c^K \\pi_c \\mathcal{N}(x_n|\\mu_c, \\Sigma_c)$"
   ]
  },
  {
   "cell_type": "markdown",
   "metadata": {},
   "source": [
    "## M-Step\n",
    "\n",
    "* EM: update parameters to maximize\n",
    "  * $ \\underset{\\theta}{max}\\;\\mathbb{E}\\;q\\;\\text{log}\\;p(X,T|\\theta) $ \n",
    "\n",
    "* GMM: update gaussian parameters to fit points assigned to them\n",
    "  * $ \\mu_1 = \\frac{\\sum_i^N p(t_i|x_i, \\theta)\\;x_i}{\\sum_i^N p(t_i|x_i, \\theta)}$\n",
    " \n"
   ]
  },
  {
   "cell_type": "markdown",
   "metadata": {},
   "source": [
    "\n",
    "\n",
    "### derivative - 1\n",
    "$\n",
    "\\begin{align}\n",
    "\\frac{\\mathcal{L}(X;\\theta)}{\\partial \\mu_k} &= \\sum_n^N \\frac{\\pi_k\\mathcal{N}(x_n|\\mu_k, \\Sigma_k)}{\\sum_j \\pi_j\\mathcal{N}(x_n|\\mu_j, \\Sigma_j)} \\sum_k^{-1} (x_n - \\mu_k) = 0 \\\\\n",
    "                                             &= \\sum_n^N\\gamma(z_{nk})(x_n-\\mu_k) = 0\n",
    "\\end{align}\n",
    "$\n",
    "\n",
    "$$\n",
    "\\begin{align}\n",
    "\\therefore \\mu_c = \\frac{\\sum_n^N \\gamma(z_{nc})X_n}{\\sum_n^N \\gamma(z_{nc})}\n",
    "\\end{align}\n",
    "$$\n",
    "\n",
    "$\n",
    "\\begin{align}\n",
    "\\frac{\\mathcal{L}(X;\\theta)}{\\partial\\Sigma_c} &= \\sum_n^N \\frac{\\pi_c (x_n|\\mu_c, \\Sigma_c)}{\\sum_j \\pi_j (x_n|\\mu_j, \\Sigma_j)}\\left( \\frac{1}{2} \\Sigma_c^{-1} (x_n-\\mu_c)(x_n-\\mu_c)^T \\Sigma_c^{-1}-\\frac{1}{2}\\Sigma_c^{-1} \\right) = 0 \\\\\n",
    "&= \\sum_n^N \\gamma(z_{nc})\\{\\Sigma_c^{-1}(x_n-\\mu_c)(x_n-\\mu_c)^T -1 \\} = 0\n",
    "\\end{align}\n",
    "$\n",
    "\n",
    "$$\n",
    "\\begin{align}\n",
    "\\therefore \\Sigma_k = \\frac{\\sum_n^N \\gamma(z_{nc})(x_n-\\mu_c)(x_n-\\mu_c)^T}{\\sum_n^N \\gamma(x_{nc})}\n",
    "\\end{align}\n",
    "$$\n",
    "\n",
    "$\\sum_c \\pi_c = 1$을 충족하면서 log-likelihood를 최대화해야한다. 따라서, $\\pi_c$는 라그랑주 승수법을 이용하여 추정한다.\n",
    "\n",
    "$J(X;\\theta,\\lambda) = \\sum_n^N \\ln \\sum_c^K \\mathcal{N}(x_n|\\mu_c, \\Sigma_c) + \\lambda \\left( 1 - \\sum_c^K \\pi_c \\right)$\n",
    "\n",
    "$\n",
    "\\begin{align}\n",
    "\\frac{J(X;\\theta,\\lambda)}{\\partial \\pi_c} &= \\sum_n^N \\frac{\\mathcal{N}(x_n|\\mu_c, \\Sigma_c)}{\\sum_j \\pi \\mathcal{N}(x_n|\\mu_c, \\Sigma_c)} - \\lambda = 0 \\\\\n",
    "&= \\sum_c^K \\sum_n^N \\frac{\\pi_c \\mathcal{N}(x_n|\\mu_c, \\Sigma_c)}{\\sum_j \\pi \\mathcal{N}(x_n|\\mu_c, \\Sigma_c)} - \\lambda\\sum_c^K \\pi_c = 0 \\\\\n",
    "&= \\sum_c^K \\sum_n^N \\gamma(z_{nc}) - \\lambda = 0 \\quad \\because \\left( \\sum_c^K \\pi_c = 1 \\right)\n",
    "\\end{align}\n",
    "$\n",
    "\n",
    "$$\\therefore \\lambda = N \\quad \\left( \\because \\sum_c^K \\gamma(z_{nc}) = 1\\right)$$\n",
    "\n",
    "$\n",
    "\\begin{align}\n",
    "\\frac{J(X;\\theta,\\lambda)}{\\partial \\pi_c} &= \\sum_n^N \\frac{\\mathcal{N}(x_n|\\mu_c, \\Sigma_c)}{\\sum_j \\pi \\mathcal{N}(x_n|\\mu_c, \\Sigma_c)} - N = 0 \\\\\n",
    "&= \\sum_n^N \\frac{\\pi_c \\mathcal{N}(x_n|\\mu_c, \\Sigma_c)}{\\sum_j \\pi \\mathcal{N}(x_n|\\mu_c, \\Sigma_c)} - N \\pi_c = 0\n",
    "\\end{align}\n",
    "$\n",
    "\n",
    "$$\\therefore \\pi_c = \\frac{1}{N}\\sum_n^N\\gamma(z_{nc})$$"
   ]
  },
  {
   "cell_type": "markdown",
   "metadata": {},
   "source": [
    "\n",
    "### derivative - 2\n",
    "$\n",
    "\\begin{align}\n",
    "\\mu_1 &= \\underset{\\theta}{max} \\sum_i^N q(t_i)\\; \\text{log}\\; p(x_i, t_i|\\theta) \\\\\n",
    "      &= \\sum_i^N \\sum_c^C q(t_i=c)\\;\\text{log}\\; \\left( \\frac{1}{Z} \\cdot \\text{exp}[-\\frac{(x_i-\\mu_c)^2}{2\\delta^2}] \\cdot \\pi_c \\right) \\\\\n",
    "      &= \\sum_i^N \\sum_c^C q(t_i=c)\\;\\left( \\text{log}\\;\\frac{\\pi_c }{Z} -\\frac{(x_i-\\mu_c)^2}{2\\delta^2} \\right)\n",
    "\\end{align}\n",
    "$\n",
    "\n",
    "$\n",
    "\\begin{align}\n",
    "\\frac{\\partial}{\\partial\\mu_1} &= \\sum_i^N q(t_i=1)\\;\\left( 0 -\\frac{2(x_i-\\mu_c)\\cdot(-1)}{2\\delta^2} \\right) = 0 \\\\\n",
    "                               &= \\sum_i^N q(t_i=1)(x_i) - \\sum_i^N q(t_i=1)(\\mu_1) = 0\n",
    "\\end{align}\n",
    "$\n",
    "\n",
    "$\n",
    "\\begin{align}\n",
    "\\mu_c = \\frac{q(t_c=1)x_i}{q(t_c=1)}\n",
    "\\end{align}\n",
    "$\n",
    "\n",
    "$\n",
    "\\begin{align}\n",
    "\\delta_c^2 = \\frac{\\sum(x_i-\\mu_c)^2 q(t_i=c)}{\\sum q(t_i=c)}\n",
    "\\end{align}\n",
    "$\n",
    "\n",
    "$\n",
    "\\begin{align}\n",
    "\\pi_c = \\frac{\\sum_i^N q(t_i = c)}{N}\n",
    "\\end{align}\n",
    "$"
   ]
  },
  {
   "cell_type": "markdown",
   "metadata": {},
   "source": [
    "## loss function\n",
    "\n",
    "$\\begin{align}\n",
    "\\mathcal{L} = \\sum_i^N\\sum_c^K q(t_i=c)(\\log \\pi_c + \\log f_{\\mathcal{N}} (x_i|\\mu_c, \\Sigma_c)) - \\sum_i^N \\sum_c^K q(t_i=c) \\log q(t_i=c)\n",
    "\\end{align}\n",
    "$\n",
    "\n",
    "$\\mathcal{N}(x \\mid \\mu_c, \\Sigma_c) = \\frac{1}{\\sqrt{(2\\pi)^n|\\boldsymbol\\Sigma_c|}}\n",
    "\\exp\\left(-\\frac{1}{2}({x}-{\\mu_c})^T{\\boldsymbol\\Sigma_c}^{-1}({x}-{\\mu_c})\n",
    "\\right)$ \n",
    "\n",
    "$\\log \\mathcal{N}(x \\mid \\mu_c, \\Sigma_c) = \\log \\frac{1}{\\sqrt{(2\\pi)^n|\\boldsymbol\\Sigma_c|}} + \\left(-\\frac{1}{2}({x}-{\\mu_c})^T{\\boldsymbol\\Sigma_c}^{-1}({x}-{\\mu_c})\n",
    "\\right)$ \n",
    "\n",
    "$$\n"
   ]
  },
  {
   "cell_type": "code",
   "execution_count": null,
   "metadata": {},
   "outputs": [],
   "source": []
  }
 ],
 "metadata": {
  "kernelspec": {
   "display_name": "Python 3",
   "language": "python",
   "name": "python3"
  },
  "language_info": {
   "codemirror_mode": {
    "name": "ipython",
    "version": 3
   },
   "file_extension": ".py",
   "mimetype": "text/x-python",
   "name": "python",
   "nbconvert_exporter": "python",
   "pygments_lexer": "ipython3",
   "version": "3.7.1"
  }
 },
 "nbformat": 4,
 "nbformat_minor": 2
}
